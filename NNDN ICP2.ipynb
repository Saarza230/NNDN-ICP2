{
  "nbformat": 4,
  "nbformat_minor": 0,
  "metadata": {
    "colab": {
      "provenance": [],
      "authorship_tag": "ABX9TyOJl/kDLv2AEu2LOPuAMWb0",
      "include_colab_link": true
    },
    "kernelspec": {
      "name": "python3",
      "display_name": "Python 3"
    },
    "language_info": {
      "name": "python"
    }
  },
  "cells": [
    {
      "cell_type": "markdown",
      "metadata": {
        "id": "view-in-github",
        "colab_type": "text"
      },
      "source": [
        "<a href=\"https://colab.research.google.com/github/Saarza230/NNDN-ICP2/blob/main/NNDN%20ICP2.ipynb\" target=\"_parent\"><img src=\"https://colab.research.google.com/assets/colab-badge.svg\" alt=\"Open In Colab\"/></a>"
      ]
    },
    {
      "cell_type": "code",
      "execution_count": 1,
      "metadata": {
        "colab": {
          "base_uri": "https://localhost:8080/"
        },
        "id": "6mztTnQ9MK8v",
        "outputId": "4f081cad-87ab-47ee-a14a-2d33b1e50f11"
      },
      "outputs": [
        {
          "output_type": "stream",
          "name": "stdout",
          "text": [
            "Total Employees: 4\n",
            "Average Salary: 65000.00\n",
            "Employee 1: Name=John, Family=Doe, Salary=50000, Department=IT\n",
            "Employee 2: Name=Jane, Family=Smith, Salary=60000, Department=HR\n",
            "Fulltime Employee 1: Name=Alice, Family=Johnson, Salary=70000, Department=Finance, Benefits=Health Insurance\n",
            "Fulltime Employee 2: Name=Bob, Family=Brown, Salary=80000, Department=Marketing, Benefits=Retirement Plan\n"
          ]
        }
      ],
      "source": [
        "class Employee:\n",
        "    employee_count = 0\n",
        "\n",
        "    def __init__(self, name, family, salary, department):\n",
        "        self.name = name\n",
        "        self.family = family\n",
        "        self.salary = salary\n",
        "        self.department = department\n",
        "        Employee.employee_count += 1\n",
        "\n",
        "    def average_salary(self, total_salary, total_employees):\n",
        "        if total_employees > 0:\n",
        "            return total_salary / total_employees\n",
        "        else:\n",
        "            return 0\n",
        "\n",
        "    @classmethod\n",
        "    def get_employee_count(cls):\n",
        "        return cls.employee_count\n",
        "class FulltimeEmployee(Employee):\n",
        "    def __init__(self, name, family, salary, department, benefits):\n",
        "        super().__init__(name, family, salary, department)\n",
        "        self.benefits = benefits\n",
        "\n",
        "emp1 = Employee(\"John\", \"Doe\", 50000, \"IT\")\n",
        "emp2 = Employee(\"Jane\", \"Smith\", 60000, \"HR\")\n",
        "fulltime_emp1 = FulltimeEmployee(\"Alice\", \"Johnson\", 70000, \"Finance\", \"Health Insurance\")\n",
        "fulltime_emp2 = FulltimeEmployee(\"Bob\", \"Brown\", 80000, \"Marketing\", \"Retirement Plan\")\n",
        "\n",
        "total_salary = emp1.salary + emp2.salary + fulltime_emp1.salary + fulltime_emp2.salary\n",
        "total_employees = Employee.get_employee_count()\n",
        "average = emp1.average_salary(total_salary, total_employees)\n",
        "\n",
        "print(f\"Total Employees: {total_employees}\")\n",
        "print(f\"Average Salary: {average:.2f}\")\n",
        "\n",
        "print(f\"Employee 1: Name={emp1.name}, Family={emp1.family}, Salary={emp1.salary}, Department={emp1.department}\")\n",
        "print(f\"Employee 2: Name={emp2.name}, Family={emp2.family}, Salary={emp2.salary}, Department={emp2.department}\")\n",
        "\n",
        "print(f\"Fulltime Employee 1: Name={fulltime_emp1.name}, Family={fulltime_emp1.family}, Salary={fulltime_emp1.salary}, Department={fulltime_emp1.department}, Benefits={fulltime_emp1.benefits}\")\n",
        "print(f\"Fulltime Employee 2: Name={fulltime_emp2.name}, Family={fulltime_emp2.family}, Salary={fulltime_emp2.salary}, Department={fulltime_emp2.department}, Benefits={fulltime_emp2.benefits}\")\n"
      ]
    },
    {
      "cell_type": "code",
      "source": [
        "import numpy as np\n",
        "\n",
        "vector = np.random.uniform(1, 20, 20)\n",
        "\n",
        "matrix = vector.reshape(4, 5)\n",
        "\n",
        "max_values = matrix.max(axis=1, keepdims=True)\n",
        "\n",
        "mask = (matrix == max_values)\n",
        "\n",
        "matrix[mask] = 0\n",
        "\n",
        "print(\"Original matrix:\\n\", vector.reshape(4, 5))\n",
        "print(\"Matrix after replacing max values with 0:\\n\", matrix)\n"
      ],
      "metadata": {
        "colab": {
          "base_uri": "https://localhost:8080/"
        },
        "id": "0zLOw3zEMXQa",
        "outputId": "540adad4-5d9f-4575-ceb9-4e2dc721bf53"
      },
      "execution_count": 3,
      "outputs": [
        {
          "output_type": "stream",
          "name": "stdout",
          "text": [
            "Original matrix:\n",
            " [[ 4.52531134  5.94156882  0.          6.2003302   4.58057515]\n",
            " [12.76890071  0.          1.06360734 13.80228786  5.74764322]\n",
            " [ 1.73528793  5.9155631  15.22279817  0.          8.67726885]\n",
            " [ 8.85999104  7.10518274 10.85208463 14.31679902  0.        ]]\n",
            "Matrix after replacing max values with 0:\n",
            " [[ 4.52531134  5.94156882  0.          6.2003302   4.58057515]\n",
            " [12.76890071  0.          1.06360734 13.80228786  5.74764322]\n",
            " [ 1.73528793  5.9155631  15.22279817  0.          8.67726885]\n",
            " [ 8.85999104  7.10518274 10.85208463 14.31679902  0.        ]]\n"
          ]
        }
      ]
    }
  ]
}